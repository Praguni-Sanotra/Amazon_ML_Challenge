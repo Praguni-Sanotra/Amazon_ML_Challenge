{
 "cells": [
  {
   "cell_type": "code",
   "execution_count": 24,
   "id": "c85b084c",
   "metadata": {},
   "outputs": [],
   "source": [
    "import sys\n",
    "import os\n",
    "import pandas as pd\n",
    "\n",
    "# Get the parent directory where the src folder is located\n",
    "parent_dir = os.path.abspath(os.path.join(os.getcwd(), '..'))\n",
    "\n",
    "# Add the parent directory to sys.path if it's not already there\n",
    "if parent_dir not in sys.path:\n",
    "    sys.path.insert(0, parent_dir)\n",
    "\n",
    "# Now import the functions and constants from src.Files\n",
    "from src.utils import download_images\n",
    "from src.constants import allowed_units"
   ]
  },
  {
   "cell_type": "code",
   "execution_count": 25,
   "id": "f84fb1be",
   "metadata": {},
   "outputs": [],
   "source": [
    "# Load the test dataset\n",
    "test_data_path = '/Users/pragunisanotra/Desktop/Amazon ML Challenge/notebook/dataset/test.csv'\n",
    "test_df = pd.read_csv(test_data_path)\n"
   ]
  },
  {
   "cell_type": "code",
   "execution_count": 26,
   "id": "c3e55281",
   "metadata": {},
   "outputs": [],
   "source": [
    "# Initialize a placeholder for predictions\n",
    "test_df['prediction'] = \"\"\n"
   ]
  },
  {
   "cell_type": "code",
   "execution_count": 27,
   "id": "e57dde03",
   "metadata": {},
   "outputs": [],
   "source": [
    "# Function to generate predictions (Replace with your model prediction logic)\n",
    "def generate_prediction(image_path, group_id, entity_name):\n",
    "    # Dummy prediction logic (You need to replace this with your actual model's logic)\n",
    "    # Assuming entity_name gives a clue about what unit to use\n",
    "    # Here, we will just return an empty string as placeholder\n",
    "    return \"\"\n"
   ]
  },
  {
   "cell_type": "code",
   "execution_count": 28,
   "id": "082acb14",
   "metadata": {},
   "outputs": [],
   "source": [
    "# Iterate through the test dataset to download images and generate predictions\n",
    "for idx, row in test_df.iterrows():\n",
    "    index = row['index']\n",
    "    image_url = row['image_link']\n",
    "    group_id = row['group_id']\n",
    "    entity_name = row['entity_name']\n"
   ]
  },
  {
   "cell_type": "code",
   "execution_count": 35,
   "id": "3c39ae30",
   "metadata": {},
   "outputs": [
    {
     "name": "stderr",
     "output_type": "stream",
     "text": [
      "100%|██████████| 1/1 [00:02<00:00,  2.70s/it]\n"
     ]
    }
   ],
   "source": [
    "# Specify the image URL and the folder where you want to save the image\n",
    "image_url = \"https://m.media-amazon.com/images/I/71XfHPR36-L.jpg\"\n",
    "download_folder = \"/Users/pragunisanotra/Desktop/Amazon ML Challenge/images\"\n",
    "\n",
    "# Call the function with a list containing the URL\n",
    "image_path = download_images([image_url], download_folder)"
   ]
  },
  {
   "cell_type": "code",
   "execution_count": 36,
   "id": "445a38a2",
   "metadata": {},
   "outputs": [],
   "source": [
    "# Generate prediction using the dummy function (replace this with actual model call)\n",
    "prediction = generate_prediction(image_path, group_id, entity_name)\n"
   ]
  },
  {
   "cell_type": "code",
   "execution_count": 37,
   "id": "aaa31fe2",
   "metadata": {},
   "outputs": [],
   "source": [
    "# Update the prediction in the dataframe\n",
    "test_df.at[idx, 'prediction'] = prediction\n"
   ]
  },
  {
   "cell_type": "code",
   "execution_count": 39,
   "id": "9283ce42",
   "metadata": {},
   "outputs": [],
   "source": [
    "import os\n",
    "\n",
    "# Save the output file in the required format\n",
    "output_path = 'output/predictions.csv'\n",
    "\n",
    "# Create the 'output' directory if it does not exist\n",
    "os.makedirs(os.path.dirname(output_path), exist_ok=True)\n",
    "\n",
    "# Save the DataFrame to the CSV file\n",
    "test_df[['index', 'prediction']].to_csv(output_path, index=False)"
   ]
  },
  {
   "cell_type": "code",
   "execution_count": 40,
   "id": "ac27c254",
   "metadata": {},
   "outputs": [
    {
     "name": "stdout",
     "output_type": "stream",
     "text": [
      "Predictions saved to output/predictions.csv\n"
     ]
    }
   ],
   "source": [
    "print(f\"Predictions saved to {output_path}\")"
   ]
  }
 ],
 "metadata": {
  "kernelspec": {
   "display_name": "base",
   "language": "python",
   "name": "python3"
  },
  "language_info": {
   "codemirror_mode": {
    "name": "ipython",
    "version": 3
   },
   "file_extension": ".py",
   "mimetype": "text/x-python",
   "name": "python",
   "nbconvert_exporter": "python",
   "pygments_lexer": "ipython3",
   "version": "3.11.7"
  }
 },
 "nbformat": 4,
 "nbformat_minor": 5
}
