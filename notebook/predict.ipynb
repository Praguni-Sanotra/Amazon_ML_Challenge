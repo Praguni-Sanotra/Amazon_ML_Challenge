{
 "cells": [
  {
   "cell_type": "code",
   "execution_count": 3,
   "metadata": {},
   "outputs": [
    {
     "name": "stdout",
     "output_type": "stream",
     "text": [
      "/Users/pragunisanotra/.zshenv:export:2: not valid in this context: Classification/google_image_scrapping\n",
      "Collecting torchvision\n",
      "  Downloading torchvision-0.19.1-cp311-cp311-macosx_11_0_arm64.whl.metadata (6.0 kB)\n",
      "Requirement already satisfied: numpy in /opt/anaconda3/lib/python3.11/site-packages (from torchvision) (1.26.4)\n",
      "Collecting torch==2.4.1 (from torchvision)\n",
      "  Downloading torch-2.4.1-cp311-none-macosx_11_0_arm64.whl.metadata (26 kB)\n",
      "Requirement already satisfied: pillow!=8.3.*,>=5.3.0 in /opt/anaconda3/lib/python3.11/site-packages (from torchvision) (10.2.0)\n",
      "Requirement already satisfied: filelock in /opt/anaconda3/lib/python3.11/site-packages (from torch==2.4.1->torchvision) (3.13.1)\n",
      "Requirement already satisfied: typing-extensions>=4.8.0 in /opt/anaconda3/lib/python3.11/site-packages (from torch==2.4.1->torchvision) (4.9.0)\n",
      "Requirement already satisfied: sympy in /opt/anaconda3/lib/python3.11/site-packages (from torch==2.4.1->torchvision) (1.12)\n",
      "Requirement already satisfied: networkx in /opt/anaconda3/lib/python3.11/site-packages (from torch==2.4.1->torchvision) (3.1)\n",
      "Requirement already satisfied: jinja2 in /opt/anaconda3/lib/python3.11/site-packages (from torch==2.4.1->torchvision) (3.1.3)\n",
      "Requirement already satisfied: fsspec in /opt/anaconda3/lib/python3.11/site-packages (from torch==2.4.1->torchvision) (2023.10.0)\n",
      "Requirement already satisfied: MarkupSafe>=2.0 in /opt/anaconda3/lib/python3.11/site-packages (from jinja2->torch==2.4.1->torchvision) (2.1.3)\n",
      "Requirement already satisfied: mpmath>=0.19 in /opt/anaconda3/lib/python3.11/site-packages (from sympy->torch==2.4.1->torchvision) (1.3.0)\n",
      "Downloading torchvision-0.19.1-cp311-cp311-macosx_11_0_arm64.whl (1.7 MB)\n",
      "\u001b[2K   \u001b[90m━━━━━━━━━━━━━━━━━━━━━━━━━━━━━━━━━━━━━━━━\u001b[0m \u001b[32m1.7/1.7 MB\u001b[0m \u001b[31m14.4 MB/s\u001b[0m eta \u001b[36m0:00:00\u001b[0ma \u001b[36m0:00:01\u001b[0m\n",
      "\u001b[?25hDownloading torch-2.4.1-cp311-none-macosx_11_0_arm64.whl (62.1 MB)\n",
      "\u001b[2K   \u001b[90m━━━━━━━━━━━━━━━━━━━━━━━━━━━━━━━━━━━━━━━━\u001b[0m \u001b[32m62.1/62.1 MB\u001b[0m \u001b[31m4.6 MB/s\u001b[0m eta \u001b[36m0:00:00\u001b[0m00:01\u001b[0m00:01\u001b[0m\n",
      "\u001b[?25hInstalling collected packages: torch, torchvision\n",
      "  Attempting uninstall: torch\n",
      "    Found existing installation: torch 2.4.0\n",
      "    Uninstalling torch-2.4.0:\n",
      "      Successfully uninstalled torch-2.4.0\n",
      "Successfully installed torch-2.4.1 torchvision-0.19.1\n",
      "Note: you may need to restart the kernel to use updated packages.\n"
     ]
    }
   ],
   "source": [
    "pip install torchvision\n"
   ]
  },
  {
   "cell_type": "code",
   "execution_count": 4,
   "metadata": {},
   "outputs": [],
   "source": [
    "# Import libraries\n",
    "import os\n",
    "import pandas as pd\n",
    "import numpy as np\n",
    "from PIL import Image\n",
    "import torch\n",
    "from torchvision import transforms, models\n",
    "from torch import nn\n",
    "import matplotlib.pyplot as plt\n",
    "import time\n",
    "from sklearn.preprocessing import StandardScaler\n",
    "from sklearn.decomposition import PCA\n",
    "import hashlib\n"
   ]
  },
  {
   "cell_type": "code",
   "execution_count": 6,
   "metadata": {},
   "outputs": [
    {
     "name": "stdout",
     "output_type": "stream",
     "text": [
      "Sample of the test dataset:\n",
      "   index                                         image_link  group_id  \\\n",
      "0      0  https://m.media-amazon.com/images/I/110EibNycl...    156839   \n",
      "1      1  https://m.media-amazon.com/images/I/11TU2clswz...    792578   \n",
      "2      2  https://m.media-amazon.com/images/I/11TU2clswz...    792578   \n",
      "3      3  https://m.media-amazon.com/images/I/11TU2clswz...    792578   \n",
      "4      4  https://m.media-amazon.com/images/I/11gHj8dhhr...    792578   \n",
      "\n",
      "  entity_name  \n",
      "0      height  \n",
      "1       width  \n",
      "2      height  \n",
      "3       depth  \n",
      "4       depth  \n",
      "Columns in test dataset: Index(['index', 'image_link', 'group_id', 'entity_name'], dtype='object')\n"
     ]
    }
   ],
   "source": [
    "import pandas as pd\n",
    "\n",
    "# Load the test dataset\n",
    "test_df = pd.read_csv('/Users/pragunisanotra/Desktop/Amazon ML Challenge/notebook/dataset/test.csv')\n",
    "\n",
    "# Display the first few rows of the dataframe and available columns\n",
    "print(\"Sample of the test dataset:\")\n",
    "print(test_df.head())\n",
    "\n",
    "print(\"Columns in test dataset:\", test_df.columns)"
   ]
  },
  {
   "cell_type": "code",
   "execution_count": 8,
   "metadata": {},
   "outputs": [
    {
     "name": "stdout",
     "output_type": "stream",
     "text": [
      "Number of unique images: 1 out of 131187 total\n"
     ]
    }
   ],
   "source": [
    "import hashlib\n",
    "import os\n",
    "\n",
    "# Function to hash the image for uniqueness check\n",
    "def hash_image(image_path):\n",
    "    try:\n",
    "        with open(image_path, \"rb\") as f:\n",
    "            return hashlib.md5(f.read()).hexdigest()\n",
    "    except FileNotFoundError:\n",
    "        return None\n",
    "\n",
    "# Adjust this to use the correct column, which seems to be 'image_link'\n",
    "image_column = 'image_link'\n",
    "\n",
    "# Check if the expected column exists\n",
    "if image_column not in test_df.columns:\n",
    "    raise KeyError(f\"Column '{image_column}' not found. Available columns are: {test_df.columns}\")\n",
    "\n",
    "# Generate image hashes\n",
    "test_df['image_hash'] = test_df[image_column].apply(\n",
    "    lambda x: hash_image(f\"path/to/test/images/{os.path.basename(x)}\") if pd.notna(x) else None\n",
    ")\n",
    "\n",
    "# Identify unique images\n",
    "unique_images_df = test_df.drop_duplicates(subset='image_hash')\n",
    "print(f\"Number of unique images: {unique_images_df.shape[0]} out of {test_df.shape[0]} total\")\n"
   ]
  },
  {
   "cell_type": "code",
   "execution_count": 12,
   "metadata": {},
   "outputs": [
    {
     "name": "stderr",
     "output_type": "stream",
     "text": [
      "Downloading: \"https://download.pytorch.org/models/resnet50-11ad3fa6.pth\" to /Users/pragunisanotra/.cache/torch/hub/checkpoints/resnet50-11ad3fa6.pth\n",
      "100%|██████████| 97.8M/97.8M [00:49<00:00, 2.07MB/s]\n"
     ]
    },
    {
     "name": "stdout",
     "output_type": "stream",
     "text": [
      "Processing https://m.media-amazon.com/images/I/110EibNyclL.jpg\n",
      "Processing local_image_path.jpg\n",
      "Error processing local_image_path.jpg: File not found: local_image_path.jpg\n",
      "Total processing time: 10.20 seconds\n",
      "Sample predictions:\n",
      "   index  prediction\n",
      "0      0       153.0\n",
      "1      1         NaN\n"
     ]
    },
    {
     "name": "stderr",
     "output_type": "stream",
     "text": [
      "/opt/anaconda3/lib/python3.11/site-packages/sklearn/decomposition/_pca.py:543: RuntimeWarning: invalid value encountered in divide\n",
      "  explained_variance_ = (S**2) / (n_samples - 1)\n"
     ]
    },
    {
     "data": {
      "image/png": "[encoded data removed]",
      "text/plain": [
       "<Figure size 1000x500 with 1 Axes>"
      ]
     },
     "metadata": {},
     "output_type": "display_data"
    },
    {
     "name": "stdout",
     "output_type": "stream",
     "text": [
      "Predictions saved to predictions.csv\n"
     ]
    }
   ],
   "source": [
    "import torch\n",
    "from torchvision import transforms, models\n",
    "from torch import nn\n",
    "import numpy as np\n",
    "from PIL import Image\n",
    "import time\n",
    "import matplotlib.pyplot as plt\n",
    "from sklearn.preprocessing import StandardScaler\n",
    "from sklearn.decomposition import PCA\n",
    "import requests\n",
    "from io import BytesIO\n",
    "import pandas as pd\n",
    "import os\n",
    "\n",
    "# Define image transformations\n",
    "transform = transforms.Compose([\n",
    "    transforms.Resize((224, 224)),\n",
    "    transforms.ToTensor(),\n",
    "    transforms.Normalize(mean=[0.485, 0.456, 0.406], std=[0.229, 0.224, 0.225])\n",
    "])\n",
    "\n",
    "# Load the pretrained ResNet50 model\n",
    "model = models.resnet50(weights='DEFAULT')\n",
    "model.fc = nn.Linear(model.fc.in_features, 1000)  # Adjust the output size as needed\n",
    "model = model.eval()\n",
    "\n",
    "# Function to download and open an image from URL\n",
    "def load_image_from_url(url):\n",
    "    try:\n",
    "        response = requests.get(url)\n",
    "        image = Image.open(BytesIO(response.content)).convert('RGB')\n",
    "        return image\n",
    "    except Exception as e:\n",
    "        print(f\"Error downloading or opening image from URL {url}: {e}\")\n",
    "        return None\n",
    "\n",
    "# Function to extract features from an image\n",
    "def extract_features(image_path_or_url):\n",
    "    try:\n",
    "        # Check if it's a URL or a local path\n",
    "        if image_path_or_url.startswith('http'):\n",
    "            image = load_image_from_url(image_path_or_url)\n",
    "        else:\n",
    "            if not os.path.exists(image_path_or_url):\n",
    "                raise FileNotFoundError(f\"File not found: {image_path_or_url}\")\n",
    "            image = Image.open(image_path_or_url).convert('RGB')\n",
    "        \n",
    "        if image is None:\n",
    "            return None\n",
    "        \n",
    "        image = transform(image).unsqueeze(0)\n",
    "        with torch.no_grad():\n",
    "            features = model(image)\n",
    "        return features.squeeze().numpy()\n",
    "    except Exception as e:\n",
    "        print(f\"Error processing {image_path_or_url}: {e}\")\n",
    "        return None\n",
    "\n",
    "# Example DataFrame with test images\n",
    "# Replace this with actual DataFrame loading\n",
    "test_df = pd.DataFrame({\n",
    "    'image_filename': [\n",
    "        'https://m.media-amazon.com/images/I/110EibNyclL.jpg',\n",
    "        'local_image_path.jpg'  # Ensure this path is valid\n",
    "    ]\n",
    "})\n",
    "\n",
    "# Initialize lists to store predictions and features\n",
    "predictions = []\n",
    "features_list = []\n",
    "\n",
    "# Process each unique image in the test set\n",
    "start_time = time.time()\n",
    "for index, row in test_df.iterrows():\n",
    "    image_path_or_url = row['image_filename']\n",
    "    \n",
    "    if pd.isna(image_path_or_url):\n",
    "        print(f\"Missing image filename at index {index}\")\n",
    "        predictions.append(None)\n",
    "        features_list.append(None)\n",
    "        continue\n",
    "    \n",
    "    # Process and extract features\n",
    "    try:\n",
    "        print(f\"Processing {image_path_or_url}\")\n",
    "        features = extract_features(image_path_or_url)\n",
    "        features_list.append(features)\n",
    "        # Store the model's prediction (for demonstration, we'll use the index of the max feature as a \"prediction\")\n",
    "        predictions.append(np.argmax(features) if features is not None else None)\n",
    "    except Exception as e:\n",
    "        print(f\"Error processing {image_path_or_url}: {e}\")\n",
    "        predictions.append(None)\n",
    "        features_list.append(None)\n",
    "\n",
    "end_time = time.time()\n",
    "print(f\"Total processing time: {end_time - start_time:.2f} seconds\")\n",
    "\n",
    "# Filter out None values and ensure the list isn't empty\n",
    "features_array = np.array([f for f in features_list if f is not None])\n",
    "\n",
    "if features_array.size == 0:\n",
    "    print(\"No valid features to process.\")\n",
    "else:\n",
    "    # Check if the array has the right shape (2D array) for scaling\n",
    "    if len(features_array.shape) == 1:\n",
    "        features_array = features_array.reshape(1, -1)\n",
    "\n",
    "    # Scale and apply PCA\n",
    "    scaler = StandardScaler()\n",
    "    features_scaled = scaler.fit_transform(features_array)\n",
    "    \n",
    "    # Adjust n_components for PCA based on the number of features\n",
    "    n_components = min(50, min(features_scaled.shape))\n",
    "    pca = PCA(n_components=n_components)\n",
    "    features_pca = pca.fit_transform(features_scaled)\n",
    "\n",
    "    # Ensure the length of predictions matches the test dataframe\n",
    "    min_length = min(len(test_df.index), len(predictions))\n",
    "    output_df = pd.DataFrame({\n",
    "        'index': test_df.index[:min_length],\n",
    "        'prediction': predictions[:min_length]\n",
    "    })\n",
    "\n",
    "    # Save predictions to CSV\n",
    "    output_df.to_csv('predictions.csv', index=False)\n",
    "\n",
    "    # Display sample predictions\n",
    "    print(\"Sample predictions:\")\n",
    "    print(output_df.head())\n",
    "\n",
    "    # Visualization of predictions (example: histogram of prediction indices)\n",
    "    plt.figure(figsize=(10, 5))\n",
    "    output_df['prediction'].dropna().astype(int).plot(kind='hist', bins=50, color='blue', alpha=0.7)\n",
    "    plt.title('Distribution of Predictions')\n",
    "    plt.xlabel('Predicted Index')\n",
    "    plt.ylabel('Frequency')\n",
    "    plt.show()\n",
    "\n",
    "    print(\"Predictions saved to predictions.csv\")\n"
   ]
  }
 ],
 "metadata": {
  "kernelspec": {
   "display_name": "base",
   "language": "python",
   "name": "python3"
  },
  "language_info": {
   "codemirror_mode": {
    "name": "ipython",
    "version": 3
   },
   "file_extension": ".py",
   "mimetype": "text/x-python",
   "name": "python",
   "nbconvert_exporter": "python",
   "pygments_lexer": "ipython3",
   "version": "3.11.7"
  }
 },
 "nbformat": 4,
 "nbformat_minor": 2
}
